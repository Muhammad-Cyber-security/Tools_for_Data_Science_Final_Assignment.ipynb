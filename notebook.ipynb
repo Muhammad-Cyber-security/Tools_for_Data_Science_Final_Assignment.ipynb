{
 "cells": [
  {
   "cell_type": "markdown",
   "id": "37cfdbcb",
   "metadata": {},
   "source": [
    "Exercise 2 "
   ]
  },
  {
   "cell_type": "markdown",
   "id": "b712afcc",
   "metadata": {},
   "source": [
    "# Tools for Data Science\n"
   ]
  },
  {
   "cell_type": "markdown",
   "id": "5ff3e6d6",
   "metadata": {},
   "source": [
    "Exercise 3 \n"
   ]
  },
  {
   "cell_type": "markdown",
   "id": "7a99b525",
   "metadata": {},
   "source": [
    "## Introduction\n",
    "In this notebook, we will explore various tools, libraries, and languages used in Data Science.\n"
   ]
  },
  {
   "cell_type": "markdown",
   "id": "f9ca195d",
   "metadata": {},
   "source": [
    "Exercise 4"
   ]
  },
  {
   "cell_type": "markdown",
   "id": "f9832ad0",
   "metadata": {},
   "source": [
    "## Data Science Languages\n",
    "- Python\n",
    "- R\n",
    "- SQL\n",
    "- Julia\n",
    "- Scala\n"
   ]
  },
  {
   "cell_type": "markdown",
   "id": "e9bbeafd",
   "metadata": {},
   "source": [
    " Exercise 5 "
   ]
  },
  {
   "cell_type": "markdown",
   "id": "bdd7c7df",
   "metadata": {},
   "source": [
    "## Data Science Libraries\n",
    "- NumPy\n",
    "- Pandas\n",
    "- Matplotlib\n",
    "- Scikit-learn\n",
    "- TensorFlow\n",
    "- Keras\n"
   ]
  },
  {
   "cell_type": "markdown",
   "id": "42018bfe",
   "metadata": {},
   "source": [
    "Exercise 6"
   ]
  },
  {
   "cell_type": "markdown",
   "id": "f81ac809",
   "metadata": {},
   "source": [
    "## Table of Data Science Tools\n",
    "\n",
    "| Tool          | Category         |\n",
    "|---------------|------------------|\n",
    "| Jupyter       | Notebook          |\n",
    "| RStudio       | IDE               |\n",
    "| Apache Hadoop | Big Data Platform|\n",
    "| IBM Watson    | AI Platform       |\n"
   ]
  },
  {
   "cell_type": "markdown",
   "id": "9b961145",
   "metadata": {},
   "source": [
    "Exercise 7"
   ]
  },
  {
   "cell_type": "markdown",
   "id": "d75d1d8f",
   "metadata": {},
   "source": [
    "## Arithmetic Expression Examples\n",
    "Below are examples of simple arithmetic expressions such as addition and multiplication.\n"
   ]
  },
  {
   "cell_type": "markdown",
   "id": "125c460a",
   "metadata": {},
   "source": [
    "Exercise 8"
   ]
  },
  {
   "cell_type": "markdown",
   "id": "4cb1b5b4",
   "metadata": {},
   "source": [
    "# Multiply and Add Numbers\n",
    "result = (3 * 4) + 5\n",
    "result\n"
   ]
  },
  {
   "cell_type": "markdown",
   "id": "30c6cd3b",
   "metadata": {},
   "source": [
    "Exercise 9"
   ]
  },
  {
   "cell_type": "markdown",
   "id": "b644e084",
   "metadata": {},
   "source": [
    "# Convert Minutes to Hours\n",
    "minutes = 120\n",
    "hours = minutes / 60\n",
    "hours\n"
   ]
  },
  {
   "cell_type": "markdown",
   "id": "a929a686",
   "metadata": {},
   "source": [
    "Exercise 10"
   ]
  },
  {
   "cell_type": "markdown",
   "id": "534e7022",
   "metadata": {},
   "source": [
    "## Objectives\n",
    "- List popular languages used in data science\n",
    "- List commonly used libraries\n",
    "- Create arithmetic expressions\n",
    "- Share the notebook via GitHub\n"
   ]
  },
  {
   "cell_type": "markdown",
   "id": "bddc0bf8",
   "metadata": {},
   "source": [
    "Exercise 11"
   ]
  },
  {
   "cell_type": "markdown",
   "id": "670c699e",
   "metadata": {},
   "source": [
    "## Author\n",
    "Muhammad Abdullah Arif\n"
   ]
  },
  {
   "cell_type": "markdown",
   "id": "c7e0d617",
   "metadata": {},
   "source": [
    "Share Your Notebook via GitHub"
   ]
  },
  {
   "cell_type": "markdown",
   "id": "7e05aba2",
   "metadata": {},
   "source": [
    "Download the notebook from JupyterLite:\n",
    "\n",
    "File > Save As > Download .ipynb\n",
    "\n",
    "Go to GitHub and:\n",
    "\n",
    "Create a new public repository (e.g., data-science-tools-assignment)\n",
    "\n",
    "Upload your .ipynb file\n",
    "\n",
    "Copy the public link to your uploaded notebook (must be viewable without logging in)."
   ]
  },
  {
   "cell_type": "markdown",
   "id": "a131ab9f",
   "metadata": {},
   "source": [
    " Take Screenshots"
   ]
  },
  {
   "cell_type": "markdown",
   "id": "3d44f255",
   "metadata": {},
   "source": [
    "Open your notebook in GitHub.\n",
    "\n",
    "Take a screenshot of the first page of your notebook.\n",
    "\n",
    "Recommended: Use Windows Alt + PrtSc or Snipping Tool to capture."
   ]
  }
 ],
 "metadata": {
  "language_info": {
   "name": "python"
  }
 },
 "nbformat": 4,
 "nbformat_minor": 5
}
